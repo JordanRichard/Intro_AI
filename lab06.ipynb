{
 "cells": [
  {
   "attachments": {},
   "cell_type": "markdown",
   "id": "91972a04",
   "metadata": {},
   "source": [
    "# Lab 06       \n",
    "## Student ID:  3606213\n",
    "## Name:        Jordan Richard"
   ]
  },
  {
   "cell_type": "code",
   "execution_count": 2,
   "id": "31c04211",
   "metadata": {},
   "outputs": [],
   "source": [
    "import math\n",
    "import time\n",
    "\n",
    "cities = [{\"x\": 38.24, \"y\": 20.42},\n",
    "          {\"x\": 39.57, \"y\": 26.15},\n",
    "          {\"x\": 40.56, \"y\": 25.32},\n",
    "          {\"x\": 36.26, \"y\": 23.12},\n",
    "          {\"x\": 33.48, \"y\": 10.54},\n",
    "          {\"x\": 37.56, \"y\": 12.19},\n",
    "          {\"x\": 38.42, \"y\": 13.11},\n",
    "          {\"x\": 37.52, \"y\": 20.44},\n",
    "          {\"x\": 41.23, \"y\": 9.10},\n",
    "          {\"x\": 41.17, \"y\": 13.05},\n",
    "          {\"x\": 36.08, \"y\": -5.21},\n",
    "          {\"x\": 38.47, \"y\": 15.13},\n",
    "          {\"x\": 38.15, \"y\": 15.35},\n",
    "          {\"x\": 37.51, \"y\": 15.17},\n",
    "          {\"x\": 35.49, \"y\": 14.32},\n",
    "          {\"x\": 39.36, \"y\": 19.56}]\n",
    "\n",
    "opt_old = [1, 14, 13, 12, 7, 6, 15, 5, 11, 9, 10, 16, 3, 2, 4, 8]\n",
    "opt = [x - 1 for x in opt_old]\n",
    "\n",
    "\n",
    "def dist(p,q):\n",
    "    dx = p['x'] - q['x']\n",
    "    dy = p['y'] - q['y']\n",
    "    return math.sqrt(dx*dx + dy*dy)\n",
    "\n",
    "def travel_distance(path,cities):\n",
    "    p = cities[path[0]]\n",
    "    d = 0\n",
    "    for n in path[1:]:\n",
    "        q = cities[n]\n",
    "        d += dist(p,q)\n",
    "        p = q\n",
    "    d += dist(p,cities[path[0]])\n",
    "    return d\n",
    "\n",
    "class Node:\n",
    "\n",
    "    def __init__(self, other):\n",
    "        if other is None:\n",
    "            self.cur = 0\n",
    "            self.visited = [False for i in range(16)]\n",
    "            self.path = [-1 for i in range(16)]\n",
    "        else:\n",
    "            self.cur = other.cur\n",
    "            self.visited = other.visited[:]\n",
    "            self.path = other.path[:]\n",
    "    \n",
    "    def __repr__(self):\n",
    "        cost = travel_distance(self.path, cities)\n",
    "        return \"{c:4.2f}:{p}\".format(p=self.path,\n",
    "                                     c=cost)\n",
    "    \n",
    "    def cost(self):\n",
    "        if self.cur < 1:\n",
    "            return 0\n",
    "        else:\n",
    "            p = cities[self.path[0]]\n",
    "            d = 0\n",
    "            for n in self.path[1:self.cur]:\n",
    "                q = cities[n]\n",
    "                d += dist(p,q)\n",
    "                p = q\n",
    "            return d\n",
    "    \n",
    "    def heuristic(self,city):\n",
    "        if self.cur < 1:\n",
    "            return 0\n",
    "        else:\n",
    "            d1 = dist(cities[self.path[self.cur - 1]],cities[city])\n",
    "            d2 = dist(cities[city],cities[self.path[0]])\n",
    "            return d1 + d2\n",
    "\n",
    "    def visit(self, city):\n",
    "        self.visited[city] = True\n",
    "        self.path[self.cur] = city\n",
    "        self.cur += 1\n",
    "\n",
    "    def feasible(self):\n",
    "        return self.cur == 16\n",
    "\n",
    "\n",
    "class MyException(Exception):\n",
    "    def __init__(self,val):\n",
    "        self.val = val\n",
    "\n",
    "class TravelAgent:\n",
    "    def __init__(self, limit):\n",
    "        self.seq = []\n",
    "        self.limit = limit\n",
    "    def update_state(self, percept):\n",
    "        pass\n",
    "    def formulate_goal(self):\n",
    "        # based on state\n",
    "        return None\n",
    "    def formulate_problem(self):\n",
    "        # based on state and goal\n",
    "        self.state = Node(None)\n",
    "        def ids(self,parent,limit,depth):\n",
    "        if parent.feasible():\n",
    "            self.state = parent\n",
    "            raise MyException(parent)\n",
    "        else:\n",
    "            for i in range(16):\n",
    "                n = Node(parent)\n",
    "                if not n.visited[i]:\n",
    "                    next_city = i\n",
    "                    d1 = n.cost()\n",
    "                    d2 = n.heuristic(next_city)\n",
    "                    d = d1 + d2\n",
    "                    if d < limit:\n",
    "                        n.visit(next_city)\n",
    "                        self.ids(n, limit,depth+1)\n",
    "\n",
    "        def search(self):\n",
    "            # based on state\n",
    "            try:\n",
    "                print(\"Exception\")\n",
    "                self.ids(self.state, self.limit,0)\n",
    "            except MyException:\n",
    "                pass\n",
    "            if self.state.feasible():\n",
    "                return [self.state]\n",
    "            else:\n",
    "                return None\n",
    "\n",
    "        def remainder(self):\n",
    "            if self.seq:\n",
    "            self.seq = self.seq[1:]\n",
    "        \n",
    "        def action(self, percept):\n",
    "            self.state = self.update_state(percept)\n",
    "            self.goal = self.formulate_goal()\n",
    "            self.problem = self.formulate_problem()\n",
    "            if self.seq == []:\n",
    "                self.seq = self.search()\n",
    "            action = self.recommendation()\n",
    "            seq = self.remainder()\n",
    "            return action\n",
    "            \n",
    "        def test():\n",
    "            A = TravelAgent(90)\n",
    "\n",
    "            tm = time.time_ns()\n",
    "            print(A.action(None))\n",
    "            print('elapsed: ', time.time_ns() - tm)\n",
    "\n",
    "            B = TravelAgent(85)\n",
    "\n",
    "            tm = time.time_ns()\n",
    "            print(B.action(None))\n",
    "            print('elapsed: ', time.time_ns() - tm)\n",
    "\n",
    "            C = TravelAgent(82)\n",
    "\n",
    "            tm = time.time_ns()\n",
    "            print(C.action(None))\n",
    "            print('elapsed: ', time.time_ns() - tm)\n",
    "            \n",
    "        test()\n",
    "\n"
   ]
  },
  {
   "cell_type": "markdown",
   "id": "d5f4ea63",
   "metadata": {},
   "source": [
    "# Answer 1(a)"
   ]
  },
  {
   "cell_type": "code",
   "execution_count": null,
   "id": "7f22b3a1",
   "metadata": {},
   "outputs": [],
   "source": []
  },
  {
   "cell_type": "markdown",
   "id": "3e232c95",
   "metadata": {},
   "source": [
    "# Answer 1(b)"
   ]
  },
  {
   "cell_type": "code",
   "execution_count": null,
   "id": "094b5fac",
   "metadata": {},
   "outputs": [],
   "source": []
  },
  {
   "cell_type": "markdown",
   "id": "bd5d5277",
   "metadata": {},
   "source": [
    "# Answer 1(c)"
   ]
  },
  {
   "cell_type": "code",
   "execution_count": null,
   "id": "0dc1a1b2",
   "metadata": {},
   "outputs": [],
   "source": []
  },
  {
   "cell_type": "markdown",
   "id": "0dc09a6e",
   "metadata": {},
   "source": [
    "# Answer 1(d)"
   ]
  },
  {
   "cell_type": "code",
   "execution_count": null,
   "id": "c1eb403d",
   "metadata": {},
   "outputs": [],
   "source": []
  },
  {
   "cell_type": "markdown",
   "id": "287a9b1f",
   "metadata": {},
   "source": [
    "# Answer 1(e)"
   ]
  },
  {
   "cell_type": "code",
   "execution_count": null,
   "id": "0acfd235",
   "metadata": {},
   "outputs": [],
   "source": []
  },
  {
   "cell_type": "markdown",
   "id": "d12c53d5",
   "metadata": {},
   "source": [
    "# Answer 2(a)"
   ]
  },
  {
   "cell_type": "code",
   "execution_count": null,
   "id": "26cb220d",
   "metadata": {},
   "outputs": [],
   "source": []
  },
  {
   "cell_type": "markdown",
   "id": "51f9c279",
   "metadata": {},
   "source": [
    "# Answer 2(b)"
   ]
  },
  {
   "cell_type": "markdown",
   "id": "db6916b3",
   "metadata": {},
   "source": [
    "* find the distance to the city\n",
    "* find the distance to the starting city\n",
    "  * this heuristic ignores all other visits\n",
    "  * very simple but admissible\n",
    "* add the two"
   ]
  },
  {
   "cell_type": "markdown",
   "id": "75d683ed",
   "metadata": {},
   "source": [
    "# Answer 2(c)"
   ]
  },
  {
   "cell_type": "markdown",
   "id": "0b21ff9e",
   "metadata": {},
   "source": [
    "| limit | elapsed for old | elapsed for new |\n",
    "| --- | --- | --- |\n",
    "|  82   |     xyz         |      xyz        |\n"
   ]
  }
 ],
 "metadata": {
  "kernelspec": {
   "display_name": "CS4795",
   "language": "python",
   "name": "python3"
  },
  "language_info": {
   "codemirror_mode": {
    "name": "ipython",
    "version": 3
   },
   "file_extension": ".py",
   "mimetype": "text/x-python",
   "name": "python",
   "nbconvert_exporter": "python",
   "pygments_lexer": "ipython3",
   "version": "3.10.9"
  },
  "vscode": {
   "interpreter": {
    "hash": "3a1e7b0eb46432c8fff98c9981260b580998c3a0ea513c18c589d44ec43cb9d0"
   }
  }
 },
 "nbformat": 4,
 "nbformat_minor": 5
}
