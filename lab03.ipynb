{
 "cells": [
  {
   "cell_type": "markdown",
   "id": "f7361b60",
   "metadata": {},
   "source": [
    "# Lab 3\n",
    "## Student ID: 3606213\n",
    "## Name:Jordan Richard"
   ]
  },
  {
   "cell_type": "markdown",
   "id": "482a7948",
   "metadata": {},
   "source": [
    "# Answer 1(a)"
   ]
  },
  {
   "cell_type": "code",
   "execution_count": 1,
   "id": "97f4a411",
   "metadata": {},
   "outputs": [
    {
     "name": "stdout",
     "output_type": "stream",
     "text": [
      "(0, [0, 1, 2, 3, 4])\n",
      "(1, [1, 0, 2, 3, 4])\n",
      "(2, [1, 2, 0, 3, 4])\n",
      "(3, [1, 2, 3, 0, 4])\n",
      "(4, [1, 2, 3, 4, 0])\n",
      "(5, [0, 2, 1, 3, 4])\n",
      "(6, [2, 0, 1, 3, 4])\n",
      "(7, [2, 1, 0, 3, 4])\n",
      "(8, [2, 1, 3, 0, 4])\n",
      "(9, [2, 1, 3, 4, 0])\n",
      "(10, [0, 2, 3, 1, 4])\n",
      "(11, [2, 0, 3, 1, 4])\n",
      "(12, [2, 3, 0, 1, 4])\n",
      "(13, [2, 3, 1, 0, 4])\n",
      "(14, [2, 3, 1, 4, 0])\n",
      "(15, [0, 2, 3, 4, 1])\n",
      "(16, [2, 0, 3, 4, 1])\n",
      "(17, [2, 3, 0, 4, 1])\n",
      "(18, [2, 3, 4, 0, 1])\n",
      "(19, [2, 3, 4, 1, 0])\n",
      "(20, [0, 1, 3, 2, 4])\n",
      "(21, [1, 0, 3, 2, 4])\n",
      "(22, [1, 3, 0, 2, 4])\n",
      "(23, [1, 3, 2, 0, 4])\n",
      "(24, [1, 3, 2, 4, 0])\n",
      "(25, [0, 3, 1, 2, 4])\n",
      "(26, [3, 0, 1, 2, 4])\n",
      "(27, [3, 1, 0, 2, 4])\n",
      "(28, [3, 1, 2, 0, 4])\n",
      "(29, [3, 1, 2, 4, 0])\n",
      "(30, [0, 3, 2, 1, 4])\n",
      "(31, [3, 0, 2, 1, 4])\n",
      "(32, [3, 2, 0, 1, 4])\n",
      "(33, [3, 2, 1, 0, 4])\n",
      "(34, [3, 2, 1, 4, 0])\n",
      "(35, [0, 3, 2, 4, 1])\n",
      "(36, [3, 0, 2, 4, 1])\n",
      "(37, [3, 2, 0, 4, 1])\n",
      "(38, [3, 2, 4, 0, 1])\n",
      "(39, [3, 2, 4, 1, 0])\n",
      "(40, [0, 1, 3, 4, 2])\n",
      "(41, [1, 0, 3, 4, 2])\n",
      "(42, [1, 3, 0, 4, 2])\n",
      "(43, [1, 3, 4, 0, 2])\n",
      "(44, [1, 3, 4, 2, 0])\n",
      "(45, [0, 3, 1, 4, 2])\n",
      "(46, [3, 0, 1, 4, 2])\n",
      "(47, [3, 1, 0, 4, 2])\n",
      "(48, [3, 1, 4, 0, 2])\n",
      "(49, [3, 1, 4, 2, 0])\n",
      "(50, [0, 3, 4, 1, 2])\n",
      "(51, [3, 0, 4, 1, 2])\n",
      "(52, [3, 4, 0, 1, 2])\n",
      "(53, [3, 4, 1, 0, 2])\n",
      "(54, [3, 4, 1, 2, 0])\n",
      "(55, [0, 3, 4, 2, 1])\n",
      "(56, [3, 0, 4, 2, 1])\n",
      "(57, [3, 4, 0, 2, 1])\n",
      "(58, [3, 4, 2, 0, 1])\n",
      "(59, [3, 4, 2, 1, 0])\n",
      "(60, [0, 1, 2, 4, 3])\n",
      "(61, [1, 0, 2, 4, 3])\n",
      "(62, [1, 2, 0, 4, 3])\n",
      "(63, [1, 2, 4, 0, 3])\n",
      "(64, [1, 2, 4, 3, 0])\n",
      "(65, [0, 2, 1, 4, 3])\n",
      "(66, [2, 0, 1, 4, 3])\n",
      "(67, [2, 1, 0, 4, 3])\n",
      "(68, [2, 1, 4, 0, 3])\n",
      "(69, [2, 1, 4, 3, 0])\n",
      "(70, [0, 2, 4, 1, 3])\n",
      "(71, [2, 0, 4, 1, 3])\n",
      "(72, [2, 4, 0, 1, 3])\n",
      "(73, [2, 4, 1, 0, 3])\n",
      "(74, [2, 4, 1, 3, 0])\n",
      "(75, [0, 2, 4, 3, 1])\n",
      "(76, [2, 0, 4, 3, 1])\n",
      "(77, [2, 4, 0, 3, 1])\n",
      "(78, [2, 4, 3, 0, 1])\n",
      "(79, [2, 4, 3, 1, 0])\n",
      "(80, [0, 1, 4, 2, 3])\n",
      "(81, [1, 0, 4, 2, 3])\n",
      "(82, [1, 4, 0, 2, 3])\n",
      "(83, [1, 4, 2, 0, 3])\n",
      "(84, [1, 4, 2, 3, 0])\n",
      "(85, [0, 4, 1, 2, 3])\n",
      "(86, [4, 0, 1, 2, 3])\n",
      "(87, [4, 1, 0, 2, 3])\n",
      "(88, [4, 1, 2, 0, 3])\n",
      "(89, [4, 1, 2, 3, 0])\n",
      "(90, [0, 4, 2, 1, 3])\n",
      "(91, [4, 0, 2, 1, 3])\n",
      "(92, [4, 2, 0, 1, 3])\n",
      "(93, [4, 2, 1, 0, 3])\n",
      "(94, [4, 2, 1, 3, 0])\n",
      "(95, [0, 4, 2, 3, 1])\n",
      "(96, [4, 0, 2, 3, 1])\n",
      "(97, [4, 2, 0, 3, 1])\n",
      "(98, [4, 2, 3, 0, 1])\n",
      "(99, [4, 2, 3, 1, 0])\n",
      "(100, [0, 1, 4, 3, 2])\n",
      "(101, [1, 0, 4, 3, 2])\n",
      "(102, [1, 4, 0, 3, 2])\n",
      "(103, [1, 4, 3, 0, 2])\n",
      "(104, [1, 4, 3, 2, 0])\n",
      "(105, [0, 4, 1, 3, 2])\n",
      "(106, [4, 0, 1, 3, 2])\n",
      "(107, [4, 1, 0, 3, 2])\n",
      "(108, [4, 1, 3, 0, 2])\n",
      "(109, [4, 1, 3, 2, 0])\n",
      "(110, [0, 4, 3, 1, 2])\n",
      "(111, [4, 0, 3, 1, 2])\n",
      "(112, [4, 3, 0, 1, 2])\n",
      "(113, [4, 3, 1, 0, 2])\n",
      "(114, [4, 3, 1, 2, 0])\n",
      "(115, [0, 4, 3, 2, 1])\n",
      "(116, [4, 0, 3, 2, 1])\n",
      "(117, [4, 3, 0, 2, 1])\n",
      "(118, [4, 3, 2, 0, 1])\n",
      "(119, [4, 3, 2, 1, 0])\n"
     ]
    }
   ],
   "source": [
    "def gen_perms(path):\n",
    "    if len(path) <= 1:\n",
    "        yield path\n",
    "    else:\n",
    "        for perm in gen_perms(path[1:]):\n",
    "            for i in range(len(path)):\n",
    "                yield perm[:i] + path[0:1] + perm[i:]\n",
    "\n",
    "for p in enumerate(gen_perms([0,1,2,3,4])):\n",
    "    print(p)"
   ]
  },
  {
   "cell_type": "markdown",
   "id": "f1b88eb2",
   "metadata": {},
   "source": [
    "# Answer 1(b)"
   ]
  },
  {
   "cell_type": "code",
   "execution_count": 2,
   "id": "3227f295",
   "metadata": {},
   "outputs": [
    {
     "name": "stdout",
     "output_type": "stream",
     "text": [
      "(0, [0, 1, 2, 3, 4])\n",
      "(1, [1, 0, 2, 3, 4])\n",
      "(2, [1, 2, 0, 3, 4])\n",
      "(3, [1, 2, 3, 0, 4])\n",
      "(4, [1, 2, 3, 4, 0])\n",
      "(5, [0, 2, 1, 3, 4])\n",
      "(6, [2, 0, 1, 3, 4])\n",
      "(7, [2, 1, 0, 3, 4])\n",
      "(8, [2, 1, 3, 0, 4])\n",
      "(9, [2, 1, 3, 4, 0])\n"
     ]
    }
   ],
   "source": [
    "def gen_perms(path):\n",
    "    if len(path) <= 1:\n",
    "        yield path\n",
    "    else:\n",
    "        for perm in gen_perms(path[1:]):\n",
    "            for i in range(len(path)):\n",
    "                yield perm[:i] + path[0:1] + perm[i:]\n",
    "\n",
    "for p in zip(range(10), gen_perms([0,1,2,3,4])):\n",
    "    print(p)"
   ]
  },
  {
   "cell_type": "markdown",
   "id": "e56adc6b",
   "metadata": {},
   "source": [
    "# Answer 1(c)"
   ]
  },
  {
   "cell_type": "code",
   "execution_count": 3,
   "id": "457b82ca",
   "metadata": {},
   "outputs": [
    {
     "name": "stdout",
     "output_type": "stream",
     "text": [
      "[0, 1, 2, 3, 4]\n",
      "[1, 0, 2, 3, 4]\n",
      "[1, 2, 0, 3, 4]\n",
      "[1, 2, 3, 0, 4]\n",
      "[1, 2, 3, 4, 0]\n",
      "[0, 2, 1, 3, 4]\n",
      "[2, 0, 1, 3, 4]\n",
      "[2, 1, 0, 3, 4]\n",
      "[2, 1, 3, 0, 4]\n",
      "[2, 1, 3, 4, 0]\n",
      "[0, 2, 3, 1, 4]\n",
      "[2, 0, 3, 1, 4]\n",
      "[2, 3, 0, 1, 4]\n",
      "[2, 3, 1, 0, 4]\n",
      "[2, 3, 1, 4, 0]\n",
      "[0, 2, 3, 4, 1]\n",
      "[2, 0, 3, 4, 1]\n",
      "[2, 3, 0, 4, 1]\n",
      "[2, 3, 4, 0, 1]\n",
      "[2, 3, 4, 1, 0]\n",
      "[0, 1, 3, 2, 4]\n",
      "[1, 0, 3, 2, 4]\n",
      "[1, 3, 0, 2, 4]\n",
      "[1, 3, 2, 0, 4]\n",
      "[1, 3, 2, 4, 0]\n",
      "[0, 3, 1, 2, 4]\n",
      "[3, 0, 1, 2, 4]\n",
      "[3, 1, 0, 2, 4]\n"
     ]
    }
   ],
   "source": [
    "def gen_perms(path):\n",
    "    if len(path) <= 1:\n",
    "        yield path\n",
    "    else:\n",
    "        for perm in gen_perms(path[1:]):\n",
    "            for i in range(len(path)):\n",
    "                yield perm[:i] + path[0:1] + perm[i:]\n",
    "\n",
    "for p in gen_perms([0,1,2,3,4]):\n",
    "    if p[0:3] == [3,1,2]:\n",
    "        break\n",
    "    print(p)"
   ]
  },
  {
   "cell_type": "markdown",
   "id": "4c79330f",
   "metadata": {},
   "source": [
    "# Answer 2"
   ]
  },
  {
   "cell_type": "code",
   "execution_count": 4,
   "id": "6f87817d",
   "metadata": {},
   "outputs": [
    {
     "name": "stdout",
     "output_type": "stream",
     "text": [
      "[2, 1, 2, 1, 2, 2, 2, 0, 3, 4]\n",
      "0\n",
      "4\n"
     ]
    }
   ],
   "source": [
    "import random\n",
    "\n",
    "lst = [random.randint(0,4) for i in range(10)]\n",
    "print(lst)\n",
    "print(min(lst))\n",
    "print(max(lst))"
   ]
  },
  {
   "cell_type": "code",
   "execution_count": 5,
   "id": "796aa4d6",
   "metadata": {},
   "outputs": [
    {
     "name": "stdout",
     "output_type": "stream",
     "text": [
      "50000000\n"
     ]
    }
   ],
   "source": [
    "def gen_randint_list(n):\n",
    "    return [random.randint(0,1E9 - 1)\n",
    "        for i in range(n)]\n",
    "lst = gen_randint_list(int(1E6))\n",
    "lst = lst * 50\n",
    "print(len(lst))"
   ]
  },
  {
   "cell_type": "code",
   "execution_count": 6,
   "id": "8b1d5ecc",
   "metadata": {},
   "outputs": [
    {
     "name": "stdout",
     "output_type": "stream",
     "text": [
      "0.9992506689959555\n"
     ]
    }
   ],
   "source": [
    "import time\n",
    "def find(lst, x):\n",
    "    for e in lst:\n",
    "        if e == x: # test statement\n",
    "            return e\n",
    "    return None\n",
    "\n",
    "x = time.perf_counter()\n",
    "find(lst, -1)\n",
    "y = time.perf_counter()\n",
    "print(y-x) # time to make sure there is no -1"
   ]
  },
  {
   "cell_type": "markdown",
   "id": "b175fdf8",
   "metadata": {},
   "source": [
    "# Answer 3"
   ]
  },
  {
   "cell_type": "code",
   "execution_count": 1,
   "id": "511a85e2",
   "metadata": {},
   "outputs": [
    {
     "data": {
      "image/png": "[encoded data removed]",
      "text/plain": [
       "<Figure size 640x480 with 1 Axes>"
      ]
     },
     "metadata": {},
     "output_type": "display_data"
    }
   ],
   "source": [
    "import matplotlib.pyplot as plt\n",
    "\n",
    "cities = [{\"x\": 38.24, \"y\": 20.42},\n",
    "          {\"x\": 39.57, \"y\": 26.15},\n",
    "          {\"x\": 40.56, \"y\": 25.32},\n",
    "          {\"x\": 36.26, \"y\": 23.12},\n",
    "          {\"x\": 33.48, \"y\": 10.54},\n",
    "          {\"x\": 37.56, \"y\": 12.19},\n",
    "          {\"x\": 38.42, \"y\": 13.11},\n",
    "          {\"x\": 37.52, \"y\": 20.44},\n",
    "          {\"x\": 41.23, \"y\": 9.10},\n",
    "          {\"x\": 41.17, \"y\": 13.05},\n",
    "          {\"x\": 36.08, \"y\": -5.21},\n",
    "          {\"x\": 38.47, \"y\": 15.13},\n",
    "          {\"x\": 38.15, \"y\": 15.35},\n",
    "          {\"x\": 37.51, \"y\": 15.17},\n",
    "          {\"x\": 35.49, \"y\": 14.32},\n",
    "          {\"x\": 39.36, \"y\": 19.56}]\n",
    "\n",
    "lab2Path = [0, 1, 2, 3, 7, 4, 5, 6, 11, 12, 15, 8, 9, 13, 10, 14]\n",
    "xpts = []\n",
    "ypts = []\n",
    "\n",
    "#Loop through coordinates based on path and plot\n",
    "for i in range(len(lab2Path)):\n",
    "    ndx = lab2Path[i]\n",
    "    currentCoords = cities[ndx]\n",
    "    \n",
    "    #Construct ordered lists of x/y coordinates\n",
    "    x = currentCoords['x']\n",
    "    y = currentCoords['y']\n",
    "    xpts.append(x)\n",
    "    ypts.append(y)\n",
    "    \n",
    "plt.plot(xpts,ypts,marker = 'o')\n",
    "plt.show()"
   ]
  },
  {
   "cell_type": "markdown",
   "id": "98964172",
   "metadata": {},
   "source": [
    "# Answer 4"
   ]
  },
  {
   "cell_type": "code",
   "execution_count": 14,
   "id": "081cc638",
   "metadata": {},
   "outputs": [
    {
     "name": "stdout",
     "output_type": "stream",
     "text": [
      "[2, 1, 3, 4, 5, 6, 7, 0, 8, 9, 10, 11, 12, 13, 14, 15] 103.16586022588973\n"
     ]
    },
    {
     "data": {
      "image/png": "[encoded data removed]",
      "text/plain": [
       "<Figure size 640x480 with 1 Axes>"
      ]
     },
     "metadata": {},
     "output_type": "display_data"
    }
   ],
   "source": [
    "import math\n",
    "import matplotlib.pyplot as plt\n",
    "\n",
    "cities = [{\"x\": 38.24, \"y\": 20.42},\n",
    "{\"x\": 39.57, \"y\": 26.15},\n",
    "{\"x\": 40.56, \"y\": 25.32},\n",
    "{\"x\": 36.26, \"y\": 23.12},\n",
    "{\"x\": 33.48, \"y\": 10.54},\n",
    "{\"x\": 37.56, \"y\": 12.19},\n",
    "{\"x\": 38.42, \"y\": 13.11},\n",
    "{\"x\": 37.52, \"y\": 20.44},\n",
    "{\"x\": 41.23, \"y\": 9.10},\n",
    "{\"x\": 41.17, \"y\": 13.05},\n",
    "{\"x\": 36.08, \"y\": -5.21},\n",
    "{\"x\": 38.47, \"y\": 15.13},\n",
    "{\"x\": 38.15, \"y\": 15.35},\n",
    "{\"x\": 37.51, \"y\": 15.17},\n",
    "{\"x\": 35.49, \"y\": 14.32},\n",
    "{\"x\": 39.36, \"y\": 19.56}]\n",
    "\n",
    "# Distance between two cities\n",
    "def dist(p,q):\n",
    "    dx = p['x'] - q['x']\n",
    "    dy = p['y'] - q['y']\n",
    "    return math.sqrt(dx*dx + dy*dy)\n",
    "\n",
    "#Total distance for a given path\n",
    "def travel_distance(path,cities):\n",
    "    p = cities[path[0]]\n",
    "    d = 0\n",
    "    for n in path[1:]:\n",
    "        q = cities[n]\n",
    "        d += dist(p,q)\n",
    "        p = q\n",
    "    d += dist(p,cities[path[0]])\n",
    "    return d\n",
    "\n",
    "def gen_perms(path):\n",
    "    if len(path) <= 1:\n",
    "        yield path\n",
    "    else:\n",
    "        for perm in gen_perms(path[1:]):\n",
    "            for i in range(len(path)):\n",
    "                yield perm[:i] + path[0:1] + perm[i:]\n",
    "\n",
    "# Maps the shortest of N potential paths\n",
    "def findShortest(n):\n",
    "    for p in zip(range(n),gen_perms([0,1,2,3,4,5,6,7,8,9,10,11,12,13,14,15])):\n",
    "        if (p[0] == 0):\n",
    "            best = p\n",
    "\n",
    "        #Update best if shorter path found\n",
    "        elif(travel_distance(p[1],cities) < travel_distance(best[1],cities)):\n",
    "            best = p\n",
    "\n",
    "    bestPath = best[1]\n",
    "    xpts = []\n",
    "    ypts = []\n",
    "    \n",
    "    print(bestPath,travel_distance(best[1],cities))\n",
    "\n",
    "    #Loop through coordinates based on path and plot\n",
    "    for i in range(len(bestPath)):\n",
    "        ndx = bestPath[i]\n",
    "        currentCoords = cities[ndx]\n",
    "\n",
    "        #Construct ordered lists of x/y coordinates\n",
    "        x = currentCoords['x']\n",
    "        y = currentCoords['y']\n",
    "        xpts.append(x)\n",
    "        ypts.append(y)\n",
    "\n",
    "    plt.plot(xpts,ypts,marker = 'o')\n",
    "    plt.show()\n",
    "    \n",
    "findShortest(1000)"
   ]
  },
  {
   "cell_type": "markdown",
   "id": "62f7f94c",
   "metadata": {},
   "source": [
    "# Answer 5"
   ]
  },
  {
   "cell_type": "code",
   "execution_count": 18,
   "id": "07d50a98",
   "metadata": {},
   "outputs": [
    {
     "ename": "KeyboardInterrupt",
     "evalue": "",
     "output_type": "error",
     "traceback": [
      "\u001b[0;31m---------------------------------------------------------------------------\u001b[0m",
      "\u001b[0;31mKeyboardInterrupt\u001b[0m                         Traceback (most recent call last)",
      "Cell \u001b[0;32mIn[18], line 59\u001b[0m\n\u001b[1;32m     55\u001b[0m     end \u001b[38;5;241m=\u001b[39m time\u001b[38;5;241m.\u001b[39mtime()\n\u001b[1;32m     56\u001b[0m     \u001b[38;5;28mprint\u001b[39m(\u001b[38;5;124m\"\u001b[39m\u001b[38;5;124mAfter \u001b[39m\u001b[38;5;124m\"\u001b[39m,end\u001b[38;5;241m-\u001b[39mstart, \u001b[38;5;124m\"\u001b[39m\u001b[38;5;124mSeconds.\u001b[39m\u001b[38;5;124m\"\u001b[39m)\n\u001b[0;32m---> 59\u001b[0m \u001b[43mfindOptimal\u001b[49m\u001b[43m(\u001b[49m\u001b[43m)\u001b[49m\n",
      "Cell \u001b[0;32mIn[18], line 52\u001b[0m, in \u001b[0;36mfindOptimal\u001b[0;34m()\u001b[0m\n\u001b[1;32m     50\u001b[0m start \u001b[38;5;241m=\u001b[39m time\u001b[38;5;241m.\u001b[39mtime()\n\u001b[1;32m     51\u001b[0m \u001b[38;5;28;01mfor\u001b[39;00m p \u001b[38;5;129;01min\u001b[39;00m gen_perms([\u001b[38;5;241m0\u001b[39m,\u001b[38;5;241m1\u001b[39m,\u001b[38;5;241m2\u001b[39m,\u001b[38;5;241m3\u001b[39m,\u001b[38;5;241m4\u001b[39m,\u001b[38;5;241m5\u001b[39m,\u001b[38;5;241m6\u001b[39m,\u001b[38;5;241m7\u001b[39m,\u001b[38;5;241m8\u001b[39m,\u001b[38;5;241m9\u001b[39m,\u001b[38;5;241m10\u001b[39m,\u001b[38;5;241m11\u001b[39m,\u001b[38;5;241m12\u001b[39m,\u001b[38;5;241m13\u001b[39m,\u001b[38;5;241m14\u001b[39m,\u001b[38;5;241m15\u001b[39m]):\n\u001b[0;32m---> 52\u001b[0m     \u001b[38;5;28;01mif\u001b[39;00m (p[\u001b[38;5;241m1\u001b[39m] \u001b[38;5;241m==\u001b[39m optimalPath):\n\u001b[1;32m     53\u001b[0m         \u001b[38;5;28mprint\u001b[39m(\u001b[38;5;124m\"\u001b[39m\u001b[38;5;124mFound!: \u001b[39m\u001b[38;5;124m\"\u001b[39m, p)\n\u001b[1;32m     54\u001b[0m         \u001b[38;5;28;01mbreak\u001b[39;00m\n",
      "\u001b[0;31mKeyboardInterrupt\u001b[0m: "
     ]
    }
   ],
   "source": [
    "import math\n",
    "import time\n",
    "\n",
    "cities = [{\"x\": 38.24, \"y\": 20.42},\n",
    "{\"x\": 39.57, \"y\": 26.15},\n",
    "{\"x\": 40.56, \"y\": 25.32},\n",
    "{\"x\": 36.26, \"y\": 23.12},\n",
    "{\"x\": 33.48, \"y\": 10.54},\n",
    "{\"x\": 37.56, \"y\": 12.19},\n",
    "{\"x\": 38.42, \"y\": 13.11},\n",
    "{\"x\": 37.52, \"y\": 20.44},\n",
    "{\"x\": 41.23, \"y\": 9.10},\n",
    "{\"x\": 41.17, \"y\": 13.05},\n",
    "{\"x\": 36.08, \"y\": -5.21},\n",
    "{\"x\": 38.47, \"y\": 15.13},\n",
    "{\"x\": 38.15, \"y\": 15.35},\n",
    "{\"x\": 37.51, \"y\": 15.17},\n",
    "{\"x\": 35.49, \"y\": 14.32},\n",
    "{\"x\": 39.36, \"y\": 19.56}]\n",
    "\n",
    "# Distance between two cities\n",
    "def dist(p,q):\n",
    "    dx = p['x'] - q['x']\n",
    "    dy = p['y'] - q['y']\n",
    "    return math.sqrt(dx*dx + dy*dy)\n",
    "\n",
    "#Total distance for a given path\n",
    "def travel_distance(path,cities):\n",
    "    p = cities[path[0]]\n",
    "    d = 0\n",
    "    for n in path[1:]:\n",
    "        q = cities[n]\n",
    "        d += dist(p,q)\n",
    "        p = q\n",
    "    d += dist(p,cities[path[0]])\n",
    "    return d\n",
    "\n",
    "def gen_perms(path):\n",
    "    if len(path) <= 1:\n",
    "        yield path\n",
    "    else:\n",
    "        for perm in gen_perms(path[1:]):\n",
    "            for i in range(len(path)):\n",
    "                yield perm[:i] + path[0:1] + perm[i:]\n",
    "\n",
    "# Iterates through permutation generator until optimal path found\n",
    "def findOptimal():\n",
    "    optimalPath = [0, 13, 12, 11, 6, 5, 14, 4, 10, 8, 9, 15, 2, 1, 3, 7]\n",
    "    \n",
    "    start = time.time()\n",
    "    for p in gen_perms([0,1,2,3,4,5,6,7,8,9,10,11,12,13,14,15]):\n",
    "        if (p[1] == optimalPath):\n",
    "            print(\"Found!: \", p)\n",
    "            break\n",
    "    end = time.time()\n",
    "    print(\"After \",end-start, \"Seconds.\")\n",
    "    \n",
    "findOptimal()"
   ]
  },
  {
   "cell_type": "markdown",
   "id": "17a1e0c8",
   "metadata": {},
   "source": [
    "Unable to finish running in time ^"
   ]
  }
 ],
 "metadata": {
  "kernelspec": {
   "display_name": "Python 3 (ipykernel)",
   "language": "python",
   "name": "python3"
  },
  "language_info": {
   "codemirror_mode": {
    "name": "ipython",
    "version": 3
   },
   "file_extension": ".py",
   "mimetype": "text/x-python",
   "name": "python",
   "nbconvert_exporter": "python",
   "pygments_lexer": "ipython3",
   "version": "3.10.9"
  }
 },
 "nbformat": 4,
 "nbformat_minor": 5
}
