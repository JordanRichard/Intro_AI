{
 "cells": [
  {
   "cell_type": "markdown",
   "id": "688ed6c3",
   "metadata": {},
   "source": [
    "# Lab 04 (Feb 9)\n",
    "## Student ID: 3606213\n",
    "## Name: Jordan Richard"
   ]
  },
  {
   "cell_type": "markdown",
   "id": "64a42662",
   "metadata": {},
   "source": [
    "# Answer 1(a)"
   ]
  },
  {
   "cell_type": "code",
   "execution_count": 1,
   "id": "58a3cda7",
   "metadata": {},
   "outputs": [
    {
     "data": {
      "image/png": "[encoded data removed]",
      "text/plain": [
       "<Figure size 640x480 with 1 Axes>"
      ]
     },
     "metadata": {},
     "output_type": "display_data"
    }
   ],
   "source": [
    "import matplotlib.pyplot as plt,mpld3\n",
    "import math\n",
    "\n",
    "fig = plt.figure(1)\n",
    "x = [x/100*2*math.pi for x in range(100)]\n",
    "y = [math.sin(x) for x in x]\n",
    "plt.clf()\n",
    "plt.plot(x,y)\n",
    "f = open(\"tmp.html\",\"w\")\n",
    "f.write(mpld3.fig_to_html(fig))\n",
    "f.close()"
   ]
  },
  {
   "cell_type": "markdown",
   "id": "5bba8e28",
   "metadata": {},
   "source": [
    "Name of file generated: tmp.html"
   ]
  },
  {
   "cell_type": "markdown",
   "id": "d7fa2177",
   "metadata": {},
   "source": [
    "# Answer 1(b)"
   ]
  },
  {
   "cell_type": "markdown",
   "id": "572ac66e",
   "metadata": {},
   "source": [
    "The html file generated contains headers that generates the above graph in a web browser."
   ]
  },
  {
   "cell_type": "markdown",
   "id": "7463338d",
   "metadata": {},
   "source": [
    "# Answer 1(c)"
   ]
  },
  {
   "cell_type": "markdown",
   "id": "a475652a",
   "metadata": {},
   "source": [
    "When opened using a web browser, the generated html file displays the same graph we created using pyplot."
   ]
  },
  {
   "cell_type": "markdown",
   "id": "9f63b76e",
   "metadata": {},
   "source": [
    "# Question 2"
   ]
  },
  {
   "cell_type": "code",
   "execution_count": 8,
   "id": "c83a22eb",
   "metadata": {},
   "outputs": [
    {
     "name": "stdout",
     "output_type": "stream",
     "text": [
      "42.62836453431716\n"
     ]
    }
   ],
   "source": [
    "import math\n",
    "cities = [{\"x\": 38.24, \"y\": 20.42},\n",
    "          {\"x\": 39.57, \"y\": 26.15},\n",
    "          {\"x\": 40.56, \"y\": 25.32},\n",
    "          {\"x\": 36.26, \"y\": 23.12},\n",
    "          {\"x\": 33.48, \"y\": 10.54},\n",
    "          {\"x\": 37.56, \"y\": 12.19},\n",
    "          {\"x\": 38.42, \"y\": 13.11},\n",
    "          {\"x\": 37.52, \"y\": 20.44},\n",
    "          {\"x\": 41.23, \"y\": 9.10},\n",
    "          {\"x\": 41.17, \"y\": 13.05},\n",
    "          {\"x\": 36.08, \"y\": -5.21},\n",
    "          {\"x\": 38.47, \"y\": 15.13},\n",
    "          {\"x\": 38.15, \"y\": 15.35},\n",
    "          {\"x\": 37.51, \"y\": 15.17},\n",
    "          {\"x\": 35.49, \"y\": 14.32},\n",
    "          {\"x\": 39.36, \"y\": 19.56}]\n",
    "\n",
    "    \n",
    "def dist(p,q):\n",
    "    dx = p['x'] - q['x']\n",
    "    dy = p['y'] - q['y']\n",
    "    return math.sqrt(dx*dx + dy*dy)\n",
    "\n",
    "def travel_distance(path,cities):\n",
    "    p = cities[path[0]]\n",
    "    d = 0\n",
    "    for n in path[1:]:\n",
    "        q = cities[n]\n",
    "        d += dist(p,q)\n",
    "        p = q\n",
    "    d += dist(p,cities[path[0]])\n",
    "    return d\n",
    "\n",
    "class Node:\n",
    "    def __init__(self, other):\n",
    "        if other is None:\n",
    "            self.cur = 0\n",
    "            self.visited = [False for i in range(16)]\n",
    "            self.path = [-1 for i in range(16)]\n",
    "        else:\n",
    "            self.cur = other.cur\n",
    "            self.visited = other.visited[:]\n",
    "            self.path = other.path[:]\n",
    "    def __repr__(self):\n",
    "        cost = travel_distance(self.path, cities)\n",
    "        return \"{c:4.2f}:{p}\".format(p=self.path,\n",
    "                                     c=cost)\n",
    "    def cost(self):\n",
    "        if self.cur < 1:\n",
    "            return 0\n",
    "        else:\n",
    "            p = cities[self.path[0]]\n",
    "            d = 0\n",
    "            for n in self.path[1:self.cur]:\n",
    "                q = cities[n]\n",
    "                d += dist(p,q)\n",
    "                p = q\n",
    "            return d\n",
    "    def heuristic(self,city):\n",
    "        if self.cur < 1:\n",
    "            return 0\n",
    "        else:\n",
    "            d1 = dist(cities[self.path[self.cur - 1]],cities[city])\n",
    "            d2 = dist(cities[city],cities[self.path[0]])\n",
    "            return d1 + d2\n",
    "\n",
    "    def visit(self, city):\n",
    "        self.visited[city] = True\n",
    "        self.path[self.cur] = city\n",
    "        self.cur += 1\n",
    "    def feasible(self):\n",
    "        return self.cur == 16\n",
    "\n",
    "def a():\n",
    "    x = Node(None)\n",
    "    x.visit(10)\n",
    "    x.visit(11)\n",
    "    print(x)\n",
    "\n",
    "def b():\n",
    "    x = Node(None)\n",
    "    x.visit(10)\n",
    "    x.visit(11)\n",
    "    print(x.cost())\n",
    "\n",
    "def c():\n",
    "    x = Node(None)\n",
    "    x.visit(10)\n",
    "    x.visit(11)\n",
    "    print(x.heuristic(0))\n",
    "\n",
    "def d():\n",
    "    x = Node(None)\n",
    "    x.visit(10)\n",
    "    x.visit(11)\n",
    "    print(x.heuristic(1))\n",
    "\n",
    "a()\n",
    "b()\n",
    "c()\n",
    "d()"
   ]
  },
  {
   "cell_type": "markdown",
   "id": "b8457ca6",
   "metadata": {},
   "source": [
    "# Answer 2(a)"
   ]
  },
  {
   "cell_type": "markdown",
   "id": "7ab01616",
   "metadata": {},
   "source": [
    "49.98:[10, 11, -1, -1, -1, -1, -1, -1, -1, -1, -1, -1, -1, -1, -1, -1]"
   ]
  },
  {
   "cell_type": "markdown",
   "id": "8cd5cd55",
   "metadata": {},
   "source": [
    "# Answer 2(b)"
   ]
  },
  {
   "cell_type": "markdown",
   "id": "0191a7f6",
   "metadata": {},
   "source": [
    "20.479934081925165"
   ]
  },
  {
   "cell_type": "markdown",
   "id": "ae8a4e42",
   "metadata": {},
   "source": [
    "# Answer 2(c)"
   ]
  },
  {
   "cell_type": "markdown",
   "id": "ede8654e",
   "metadata": {},
   "source": [
    "31.015854934480984"
   ]
  },
  {
   "cell_type": "markdown",
   "id": "2216fd0f",
   "metadata": {},
   "source": [
    "# Answer 2(d)"
   ]
  },
  {
   "cell_type": "markdown",
   "id": "da253561",
   "metadata": {},
   "source": [
    "42.62836453431716"
   ]
  }
 ],
 "metadata": {
  "kernelspec": {
   "display_name": "Python 3 (ipykernel)",
   "language": "python",
   "name": "python3"
  },
  "language_info": {
   "codemirror_mode": {
    "name": "ipython",
    "version": 3
   },
   "file_extension": ".py",
   "mimetype": "text/x-python",
   "name": "python",
   "nbconvert_exporter": "python",
   "pygments_lexer": "ipython3",
   "version": "3.8.10"
  }
 },
 "nbformat": 4,
 "nbformat_minor": 5
}
